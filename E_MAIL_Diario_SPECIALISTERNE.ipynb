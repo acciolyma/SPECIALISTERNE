{
  "nbformat": 4,
  "nbformat_minor": 0,
  "metadata": {
    "colab": {
      "provenance": [],
      "authorship_tag": "ABX9TyP2QiIyn3/h/ZTlkk2IZOzH",
      "include_colab_link": true
    },
    "kernelspec": {
      "name": "python3",
      "display_name": "Python 3"
    },
    "language_info": {
      "name": "python"
    }
  },
  "cells": [
    {
      "cell_type": "markdown",
      "metadata": {
        "id": "view-in-github",
        "colab_type": "text"
      },
      "source": [
        "<a href=\"https://colab.research.google.com/github/acciolyma/SPECIALISTERNE/blob/main/E_MAIL_Diario_SPECIALISTERNE.ipynb\" target=\"_parent\"><img src=\"https://colab.research.google.com/assets/colab-badge.svg\" alt=\"Open In Colab\"/></a>"
      ]
    },
    {
      "cell_type": "markdown",
      "source": [
        "## E-mail Registro Diário de Atividades"
      ],
      "metadata": {
        "id": "Tyh7HTB4zlao"
      }
    },
    {
      "cell_type": "code",
      "execution_count": null,
      "metadata": {
        "colab": {
          "base_uri": "https://localhost:8080/"
        },
        "id": "NTMQ63clun78",
        "outputId": "df07bcc1-c35f-4f60-ef09-bb290ca3cb49"
      },
      "outputs": [
        {
          "output_type": "stream",
          "name": "stdout",
          "text": [
            "Esperando 16.49 minutos para enviar o e-mail.\n",
            "E-mail enviado com sucesso!\n"
          ]
        }
      ],
      "source": [
        "import smtplib\n",
        "from email.mime.multipart import MIMEMultipart\n",
        "from email.mime.text import MIMEText\n",
        "from datetime import datetime, timedelta\n",
        "import time\n",
        "import pytz\n",
        "\n",
        "# Função para enviar o e-mail\n",
        "def enviar_email():\n",
        "    # Informações do remetente e destinatários\n",
        "    remetente = \"\"\n",
        "    senha_app = \"\"  # Gere no Gmail\n",
        "    destinatarios = [\"daiane.lourenco@specialisterne.com\", \"gustavo.izidro@specialisterne.com\", \"murilo.paiva@specialisterne.com\"]\n",
        "\n",
        "    # Título do e-mail com a data de hoje\n",
        "    hoje = datetime.now().strftime('%d/%m/%Y')\n",
        "    assunto = f\"Registro Diário de Atividades - Curso de Capacitação [{hoje}]\"\n",
        "\n",
        "    # Corpo do e-mail formatado em HTML\n",
        "    corpo = f\"\"\"\n",
        "    <p><b>Boa tarde, Dai, Murilo e Gustavo!</b></p>\n",
        "\n",
        "    <p>Espero que vocês estejam bem. Abaixo está o registro das atividades realizadas hoje:</p>\n",
        "\n",
        "    <p><b>Despedida da Atividades do Dia - [{hoje}]</b></p>\n",
        "\n",
        "    <p>09:00 - 11:20 Ajustes final apresentação site <br>\n",
        "    11:20 - 11:30 Pausa <br>\n",
        "    11:30 - 12:10 Inicio treinamento apresentação <br>\n",
        "    12:10 - 12:30 Formulário de avaliação Specialisterne <br>\n",
        "    12:30 - 13:30 Almoço<br>\n",
        "    13:30 - 16:00 Apresentações\n",
        "    15:02 - 15:07 Pausa <br>\n",
        "    15:07 - 16:00 Formatura\n",
        "    </p>\n",
        "\n",
        "\n",
        "\n",
        "\n",
        "\n",
        "\n",
        "    <p>Agradeço a atenção e fico à disposição para dúvidas ou comentários.</p>\n",
        "\n",
        "    <p>Atenciosamente,<br>Maria Accioly</p>\n",
        "    \"\"\"\n",
        "\n",
        "    # Configuração da mensagem\n",
        "    msg = MIMEMultipart()\n",
        "    msg['From'] = remetente\n",
        "    msg['To'] = \", \".join(destinatarios)\n",
        "    msg['Subject'] = assunto\n",
        "\n",
        "    # Anexando o corpo do e-mail\n",
        "    msg.attach(MIMEText(corpo, 'html'))\n",
        "\n",
        "    # Configurando o servidor SMTP do Gmail\n",
        "    try:\n",
        "        servidor = smtplib.SMTP('smtp.gmail.com', 587)\n",
        "        servidor.starttls()\n",
        "        servidor.login(remetente, senha_app)\n",
        "        servidor.sendmail(remetente, destinatarios, msg.as_string())\n",
        "        servidor.quit()\n",
        "        print(\"E-mail enviado com sucesso!\")\n",
        "    except Exception as e:\n",
        "        print(f\"Falha ao enviar o e-mail: {e}\")\n",
        "\n",
        "# Função para calcular o tempo até as 16:00 no horário de Brasília\n",
        "def esperar_ate_as_16():\n",
        "    fuso_horario_brasilia = pytz.timezone('America/Sao_Paulo')\n",
        "    agora = datetime.now(fuso_horario_brasilia)\n",
        "    horario_envio = agora.replace(hour=16, minute=0, second=0, microsecond=0)\n",
        "\n",
        "    # Se ainda não passou das 16:00, esperar até lá\n",
        "    if agora < horario_envio:\n",
        "        tempo_para_esperar = (horario_envio - agora).total_seconds()\n",
        "        print(f\"Esperando {tempo_para_esperar / 60:.2f} minutos para enviar o e-mail.\")\n",
        "        time.sleep(tempo_para_esperar)\n",
        "    else:\n",
        "        print(\"Já passou das 16:00, enviando o e-mail imediatamente.\")\n",
        "\n",
        "# Programa principal\n",
        "esperar_ate_as_16()\n",
        "enviar_email()"
      ]
    }
  ]
}